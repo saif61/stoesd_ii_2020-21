{
 "cells": [
  {
   "cell_type": "code",
   "execution_count": 1,
   "metadata": {},
   "outputs": [
    {
     "name": "stdout",
     "output_type": "stream",
     "text": [
      "Defining g\n"
     ]
    }
   ],
   "source": [
    "PRECISION = 163\n",
    "F = GF(2^163, 'g', modulus = x^163 + x^8 + x^2 + x + 1)\n",
    "F.inject_variables()\n",
    "R.<x,y> = F[]\n",
    "exp = 2^PRECISION-2"
   ]
  },
  {
   "cell_type": "code",
   "execution_count": 2,
   "metadata": {},
   "outputs": [],
   "source": [
    "def str_to_poly(str):\n",
    "\tI=Integer(str, base=16)\n",
    "\tv=F(0)\n",
    "\tfor i in range (0,F.degree()):\n",
    "\t\tif(I >> i) & 1 > 0:\n",
    "\t\t\tv = v + g^i\n",
    "\treturn v\n",
    "\n",
    "def poly_to_str(poly):\n",
    "\tvec=poly._vector_()\n",
    "\tstring = \"\"\n",
    "\tfor i in range(0,len(vec)):\n",
    "\t\tstring = string + str(vec[len(vec) - i - 1])\n",
    "\treturn hex(Integer(string, base=2))"
   ]
  },
  {
   "cell_type": "code",
   "execution_count": 3,
   "metadata": {},
   "outputs": [],
   "source": [
    "rpoly = str_to_poly(\"0107\")\n",
    "r = poly_to_str(rpoly)\n",
    "rinvpoly = rpoly^-1\n",
    "rinv = poly_to_str(rinvpoly)\n",
    "r2poly = rpoly*rpoly\n",
    "r2 = poly_to_str(r2poly)\n",
    "\n",
    "n = 0x080000000000000000000000000000000000000107\n",
    "\n",
    "a = 0x072546b5435234a422e0789675f432c89435de5242\n",
    "\n",
    "apoly = str_to_poly(\"072546b5435234a422e0789675f432c89435de5242\")\n",
    "#mapoly = apoly*r2poly*rinvpoly\n",
    "\n",
    "b = 0x00c9517d06d5240d3cff38c74b20b6cd4d6f9dd4d9\n",
    "\n",
    "bpoly = str_to_poly(\"00c9517d06d5240d3cff38c74b20b6cd4d6f9dd4d9\")\n",
    "#mbpoly = bpoly*r2poly*rinvpoly\n",
    "\n",
    "E = EllipticCurve(y^2 + x*y - x^3 - apoly*x^2 - bpoly)\n",
    "\n",
    "G = E((str_to_poly(\"07af69989546103d79329fcc3d74880f33bbe803cb\"), str_to_poly(\"01ec23211b5966adea1d3f87f7ea5848aef0b7ca9f\")))\n"
   ]
  },
  {
   "cell_type": "code",
   "execution_count": 4,
   "metadata": {},
   "outputs": [],
   "source": [
    "def mont(*args):\n",
    "    res = []\n",
    "    for n in args:\n",
    "        tres = n*rpoly\n",
    "        res.append(tres)\n",
    "    return res"
   ]
  },
  {
   "cell_type": "code",
   "execution_count": 5,
   "metadata": {},
   "outputs": [],
   "source": [
    "def de_mont(*args):\n",
    "    res = []\n",
    "    for n in args:\n",
    "        tres = n*rinvpoly\n",
    "        res.append(tres)\n",
    "    \n",
    "    return res"
   ]
  },
  {
   "cell_type": "code",
   "execution_count": 6,
   "metadata": {},
   "outputs": [],
   "source": [
    "apoly_mont = mont(apoly)[0]\n",
    "bpoly_mont = mont(bpoly)[0]\n",
    "#assert apoly_mont == apoly*rpoly"
   ]
  },
  {
   "cell_type": "code",
   "execution_count": 7,
   "metadata": {},
   "outputs": [],
   "source": [
    "def aff_to_jac(r_x,r_y):\n",
    "    return r_x,r_y,rpoly\n"
   ]
  },
  {
   "cell_type": "code",
   "execution_count": 8,
   "metadata": {},
   "outputs": [],
   "source": [
    "def jac_to_aff(r_x,r_y,r_z):\n",
    "    r_z_inv = (r_z^exp)*rpoly #works somehow\n",
    "    #r_z_inv = r_z^-1\n",
    "    #r_z_inv = r_z^exp*rpoly\n",
    "    r_z2_inv = r_z_inv*r_z_inv\n",
    "    r_z3_inv = r_z2_inv*r_z_inv\n",
    "    \n",
    "    r_x_a = r_x*r_z2_inv\n",
    "    r_y_a = r_y*r_z3_inv\n",
    "    \n",
    "    return r_x_a,r_y_a"
   ]
  },
  {
   "cell_type": "code",
   "execution_count": 9,
   "metadata": {},
   "outputs": [],
   "source": [
    "def point_add_jac_mont(X1,Y1,Z1,X2,Y2,Z2):\n",
    "    \n",
    "    O1 = Z1*Z1*rinvpoly\n",
    "    O2 = Z2*Z2*rinvpoly\n",
    "\n",
    "    A = X1*O2*rinvpoly\n",
    "    B = X2*O1*rinvpoly\n",
    "\n",
    "    T1 = Y1*O2*rinvpoly\n",
    "    C = T1*Z2*rinvpoly\n",
    "\n",
    "    T2 = Y2*O1*rinvpoly\n",
    "    D = T2*Z1*rinvpoly\n",
    "\n",
    "    E = A+B\n",
    "\n",
    "    F = C+D\n",
    "\n",
    "    G = E*Z1*rinvpoly\n",
    "\n",
    "    T3 = F*X2*rinvpoly\n",
    "    T4 = G*Y2*rinvpoly\n",
    "    H = T3+T4\n",
    "\n",
    "    Z3 = G*Z2*rinvpoly\n",
    "\n",
    "    I = F+Z3\n",
    "\n",
    "    T5 = Z3*Z3*rinvpoly\n",
    "    T6 = apoly_mont*T5*rinvpoly\n",
    "    T7 = F*I*rinvpoly\n",
    "    T8 = T6+T7\n",
    "    T9 = E*E*rinvpoly\n",
    "    T10 = T9*E*rinvpoly\n",
    "    X3 = T8+T10\n",
    "\n",
    "    T11 = I*X3*rinvpoly\n",
    "    T12 = G*G*rinvpoly\n",
    "    T13 = T12*H*rinvpoly\n",
    "    Y3 = T11+T13\n",
    "    \n",
    "    return X3,Y3,Z3"
   ]
  },
  {
   "cell_type": "code",
   "execution_count": 10,
   "metadata": {},
   "outputs": [],
   "source": [
    "def point_double_jac_mont(X1,Y1,Z1):\n",
    "    \n",
    "    A = X1*X1*rinvpoly\n",
    "    B = A*A*rinvpoly\n",
    "    C = Z1*Z1*rinvpoly\n",
    "    D = C*C*rinvpoly\n",
    "    \n",
    "    T1 = D*D*rinvpoly\n",
    "    T2 = bpoly_mont*T1*rinvpoly\n",
    "    X3 = B+T2\n",
    "    \n",
    "    Z3 = X1*C*rinvpoly\n",
    "    \n",
    "    T3 = B*Z3*rinvpoly\n",
    "    T4 = Y1*Z1*rinvpoly\n",
    "    T5 = A+T4\n",
    "    T6 = T5+Z3\n",
    "    T7 = T6*X3*rinvpoly\n",
    "    Y3 = T3+T7\n",
    "\n",
    "    return X3,Y3,Z3"
   ]
  },
  {
   "cell_type": "code",
   "execution_count": 11,
   "metadata": {},
   "outputs": [],
   "source": [
    "def point_mult_jac_mont(X1,Y1,Z1,k):\n",
    "    R_X = X1\n",
    "    R_Y = Y1\n",
    "    R_Z = Z1\n",
    "\n",
    "    k_bin = bin(k)[3:]\n",
    "    #print(bin(k),\"\\n\",k_bin)\n",
    "    for x in k_bin:\n",
    "        R_X,R_Y,R_Z = point_double_jac_mont(R_X,R_Y,R_Z)#j\n",
    "        if(x==\"1\"):\n",
    "            R_X,R_Y,R_Z = point_add_jac_mont(R_X,R_Y,R_Z,X1,Y1,Z1)#j\n",
    "            \n",
    "    return R_X,R_Y,R_Z"
   ]
  },
  {
   "cell_type": "markdown",
   "metadata": {},
   "source": [
    "## Testing Point addition"
   ]
  },
  {
   "cell_type": "code",
   "execution_count": 12,
   "metadata": {},
   "outputs": [],
   "source": [
    "P = E((str_to_poly(\"5973f2ce9481d19643a811a897599e6752b62834\"), str_to_poly(\"655ebc626a619726018b03f84730e81a619142c94\")))\n",
    "Q = E((str_to_poly(\"525bd3cdda7c989f21652da0de9c7a5d35ae62f1f\"), str_to_poly(\"54972dfe42d888584d8cfce0757f7b0a64801ae68\")))\n"
   ]
  },
  {
   "cell_type": "markdown",
   "metadata": {},
   "source": [
    "##### Montgomeraizing points"
   ]
  },
  {
   "cell_type": "code",
   "execution_count": 13,
   "metadata": {},
   "outputs": [],
   "source": [
    "k = Integer(getrandbits(PRECISION-1))\n",
    "P = k*G\n",
    "#print(str_to_poly(P))"
   ]
  },
  {
   "cell_type": "code",
   "execution_count": 14,
   "metadata": {},
   "outputs": [],
   "source": [
    "P_MD = mont(P.xy()[0],P.xy()[1],Q.xy()[0],Q.xy()[1])"
   ]
  },
  {
   "cell_type": "code",
   "execution_count": 15,
   "metadata": {},
   "outputs": [],
   "source": [
    "assert P_MD[3] == Q.xy()[1]*rpoly"
   ]
  },
  {
   "cell_type": "markdown",
   "metadata": {},
   "source": [
    "##### Affine to jacobi"
   ]
  },
  {
   "cell_type": "code",
   "execution_count": 16,
   "metadata": {},
   "outputs": [],
   "source": [
    "P_MD_jac_x, P_MD_jac_y, P_MD_jac_z = aff_to_jac(P_MD[0],P_MD[1])\n",
    "\n",
    "Q_MD_jac_x, Q_MD_jac_y, Q_MD_jac_z = aff_to_jac(P_MD[2],P_MD[3])"
   ]
  },
  {
   "cell_type": "markdown",
   "metadata": {},
   "source": [
    "##### Addition"
   ]
  },
  {
   "cell_type": "code",
   "execution_count": 17,
   "metadata": {},
   "outputs": [],
   "source": [
    "R_MD_jac_x, R_MD_jac_y, R_MD_jac_z = point_add_jac_mont(P_MD_jac_x, P_MD_jac_y, P_MD_jac_z, Q_MD_jac_x, Q_MD_jac_y, Q_MD_jac_z)"
   ]
  },
  {
   "cell_type": "markdown",
   "metadata": {},
   "source": [
    "##### Jacobi to Affine"
   ]
  },
  {
   "cell_type": "code",
   "execution_count": 18,
   "metadata": {},
   "outputs": [],
   "source": [
    "R_MD_x, R_MD_y = jac_to_aff(R_MD_jac_x, R_MD_jac_y, R_MD_jac_z)"
   ]
  },
  {
   "cell_type": "markdown",
   "metadata": {},
   "source": [
    "##### Demontgomerizing Points"
   ]
  },
  {
   "cell_type": "code",
   "execution_count": 19,
   "metadata": {},
   "outputs": [],
   "source": [
    "R = de_mont(R_MD_x,R_MD_y)"
   ]
  },
  {
   "cell_type": "markdown",
   "metadata": {},
   "source": [
    "##### Result and varification"
   ]
  },
  {
   "cell_type": "code",
   "execution_count": 20,
   "metadata": {},
   "outputs": [
    {
     "name": "stdout",
     "output_type": "stream",
     "text": [
      "0xb8be650aab48695aa74fd5f2ed7b5967b05c543a 0x5e848ca7aa4521d5eb6af03f0b42c8584af0198b5\n",
      "0xb8be650aab48695aa74fd5f2ed7b5967b05c543a 0x5e848ca7aa4521d5eb6af03f0b42c8584af0198b5\n"
     ]
    }
   ],
   "source": [
    "P_add = P+Q\n",
    "print(poly_to_str(P_add.xy()[0]),poly_to_str(P_add.xy()[1]))\n",
    "print(poly_to_str(R[0]),poly_to_str(R[1]))"
   ]
  },
  {
   "cell_type": "code",
   "execution_count": 21,
   "metadata": {},
   "outputs": [],
   "source": [
    "#Demont then jac - affine\n",
    "\n",
    "Ra = de_mont(R_MD_jac_x, R_MD_jac_y, R_MD_jac_z)\n"
   ]
  },
  {
   "cell_type": "code",
   "execution_count": 22,
   "metadata": {},
   "outputs": [],
   "source": [
    "Ra_x, Ra_y = jac_to_aff(Ra[0], Ra[1], Ra[2])"
   ]
  },
  {
   "cell_type": "code",
   "execution_count": 23,
   "metadata": {},
   "outputs": [
    {
     "name": "stdout",
     "output_type": "stream",
     "text": [
      "0x7b4ab0ac2dbb5fed59b7f306cd6441ade20c53410 0x38b31c9746730502508fd80cbb95be36974287f1e\n"
     ]
    }
   ],
   "source": [
    "print(poly_to_str(Ra_x),poly_to_str(Ra_y))"
   ]
  },
  {
   "cell_type": "markdown",
   "metadata": {},
   "source": [
    "## Testing Point Doubling"
   ]
  },
  {
   "cell_type": "code",
   "execution_count": 24,
   "metadata": {},
   "outputs": [],
   "source": [
    "D = P"
   ]
  },
  {
   "cell_type": "markdown",
   "metadata": {},
   "source": [
    "##### Montgomerizing"
   ]
  },
  {
   "cell_type": "code",
   "execution_count": 25,
   "metadata": {},
   "outputs": [],
   "source": [
    "D_MD = mont(D.xy()[0],D.xy()[1])\n",
    "assert D_MD[1] == D.xy()[1]*rpoly"
   ]
  },
  {
   "cell_type": "markdown",
   "metadata": {},
   "source": [
    "##### Affine to jacobi"
   ]
  },
  {
   "cell_type": "code",
   "execution_count": 26,
   "metadata": {},
   "outputs": [],
   "source": [
    "D_MD_jac_x, D_MD_jac_y, D_MD_jac_z = aff_to_jac(D_MD[0],D_MD[1])"
   ]
  },
  {
   "cell_type": "markdown",
   "metadata": {},
   "source": [
    "##### Doubling"
   ]
  },
  {
   "cell_type": "code",
   "execution_count": 27,
   "metadata": {},
   "outputs": [],
   "source": [
    "R_D_MD_jac_x, R_D_MD_jac_y, R_D_MD_jac_z = point_double_jac_mont(D_MD_jac_x, D_MD_jac_y, D_MD_jac_z)"
   ]
  },
  {
   "cell_type": "markdown",
   "metadata": {},
   "source": [
    "##### Jacobi to Affine"
   ]
  },
  {
   "cell_type": "code",
   "execution_count": 28,
   "metadata": {},
   "outputs": [],
   "source": [
    "R_D_MD_x, R_D_MD_y = jac_to_aff(R_D_MD_jac_x, R_D_MD_jac_y, R_D_MD_jac_z)"
   ]
  },
  {
   "cell_type": "markdown",
   "metadata": {},
   "source": [
    "##### Demontgomerizing Points"
   ]
  },
  {
   "cell_type": "code",
   "execution_count": 29,
   "metadata": {},
   "outputs": [],
   "source": [
    "R_D = de_mont(R_D_MD_x, R_D_MD_y)"
   ]
  },
  {
   "cell_type": "markdown",
   "metadata": {},
   "source": [
    "##### Result and varification"
   ]
  },
  {
   "cell_type": "code",
   "execution_count": 30,
   "metadata": {},
   "outputs": [
    {
     "name": "stdout",
     "output_type": "stream",
     "text": [
      "0x3039a192ad4eb55fcaf35e4ade3f8564277435278 0x4a70749b13a6634a6b206efa7f308da32a1f81d46\n",
      "0x3039a192ad4eb55fcaf35e4ade3f8564277435278 0x4a70749b13a6634a6b206efa7f308da32a1f81d46\n"
     ]
    }
   ],
   "source": [
    "D_dub = 2*D\n",
    "print(poly_to_str(D_dub.xy()[0]),poly_to_str(D_dub.xy()[1]))\n",
    "print(poly_to_str(R_D[0]),poly_to_str(R_D[1]))"
   ]
  },
  {
   "cell_type": "markdown",
   "metadata": {},
   "source": [
    "## Testing Point Multiplication"
   ]
  },
  {
   "cell_type": "code",
   "execution_count": 31,
   "metadata": {},
   "outputs": [],
   "source": [
    "M = P"
   ]
  },
  {
   "cell_type": "code",
   "execution_count": 32,
   "metadata": {},
   "outputs": [
    {
     "name": "stdout",
     "output_type": "stream",
     "text": [
      "3630307443970571539501475810076920358293737507748\n"
     ]
    }
   ],
   "source": [
    "I = Integer(getrandbits(PRECISION-1)); print(I)"
   ]
  },
  {
   "cell_type": "markdown",
   "metadata": {},
   "source": [
    "##### Montgomerizing"
   ]
  },
  {
   "cell_type": "code",
   "execution_count": 33,
   "metadata": {},
   "outputs": [],
   "source": [
    "M_MD = mont(M.xy()[0],M.xy()[1])\n",
    "assert M_MD[1] == M.xy()[1]*rpoly"
   ]
  },
  {
   "cell_type": "markdown",
   "metadata": {},
   "source": [
    "##### Affine to jacobi"
   ]
  },
  {
   "cell_type": "code",
   "execution_count": 34,
   "metadata": {},
   "outputs": [],
   "source": [
    "M_MD_jac_x, M_MD_jac_y, M_MD_jac_z = aff_to_jac(M_MD[0],M_MD[1])"
   ]
  },
  {
   "cell_type": "markdown",
   "metadata": {},
   "source": [
    "##### Doubling"
   ]
  },
  {
   "cell_type": "code",
   "execution_count": 35,
   "metadata": {},
   "outputs": [],
   "source": [
    "R_M_MD_jac_x, R_M_MD_jac_y, R_M_MD_jac_z = point_mult_jac_mont(M_MD_jac_x, M_MD_jac_y, M_MD_jac_z,I)"
   ]
  },
  {
   "cell_type": "markdown",
   "metadata": {},
   "source": [
    "##### Jacobi to Affine"
   ]
  },
  {
   "cell_type": "code",
   "execution_count": 36,
   "metadata": {},
   "outputs": [],
   "source": [
    "R_M_MD_x, R_M_MD_y = jac_to_aff(R_M_MD_jac_x, R_M_MD_jac_y, R_M_MD_jac_z)"
   ]
  },
  {
   "cell_type": "markdown",
   "metadata": {},
   "source": [
    "##### Demontgomerizing Points"
   ]
  },
  {
   "cell_type": "code",
   "execution_count": 37,
   "metadata": {},
   "outputs": [],
   "source": [
    "R_M = de_mont(R_M_MD_x, R_M_MD_y)"
   ]
  },
  {
   "cell_type": "markdown",
   "metadata": {},
   "source": [
    "##### Result and varification"
   ]
  },
  {
   "cell_type": "code",
   "execution_count": 38,
   "metadata": {},
   "outputs": [
    {
     "name": "stdout",
     "output_type": "stream",
     "text": [
      "0x15b73551d750286804b7e6296a96ecf6793b5ac74 0xb89210e8ef1211ffd92197417518af440db9ba77\n",
      "0x15b73551d750286804b7e6296a96ecf6793b5ac74 0xb89210e8ef1211ffd92197417518af440db9ba77\n"
     ]
    }
   ],
   "source": [
    "M_Mul = I*M\n",
    "print(poly_to_str(M_Mul.xy()[0]),poly_to_str(M_Mul.xy()[1]))\n",
    "print(poly_to_str(R_M[0]),poly_to_str(R_M[1]))"
   ]
  }
 ],
 "metadata": {
  "kernelspec": {
   "display_name": "SageMath 9.0",
   "language": "sage",
   "name": "sagemath"
  },
  "language_info": {
   "codemirror_mode": {
    "name": "ipython",
    "version": 3
   },
   "file_extension": ".py",
   "mimetype": "text/x-python",
   "name": "python",
   "nbconvert_exporter": "python",
   "pygments_lexer": "ipython3",
   "version": "3.8.5"
  }
 },
 "nbformat": 4,
 "nbformat_minor": 4
}
